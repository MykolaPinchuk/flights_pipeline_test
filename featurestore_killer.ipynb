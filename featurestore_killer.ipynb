{
 "cells": [
  {
   "cell_type": "code",
   "execution_count": 1,
   "id": "58848848-6891-4fbb-86b5-ff3cd9254dde",
   "metadata": {},
   "outputs": [],
   "source": [
    "from google.cloud import aiplatform\n",
    "\n",
    "\n",
    "def delete_featurestore_sample(\n",
    "    project: str,\n",
    "    location: str,\n",
    "    featurestore_name: str,\n",
    "    sync: bool = True,\n",
    "    force: bool = True,\n",
    "):\n",
    "    aiplatform.init(project=project, location=location)\n",
    "\n",
    "    fs = aiplatform.featurestore.Featurestore(featurestore_name=featurestore_name)\n",
    "    fs.delete(sync=sync, force=force)"
   ]
  },
  {
   "cell_type": "code",
   "execution_count": 2,
   "id": "2b00dada-2b4a-4269-9027-8c2c722c7851",
   "metadata": {},
   "outputs": [
    {
     "name": "stdout",
     "output_type": "stream",
     "text": [
      "Deleting Featurestore : projects/662390005506/locations/us-central1/featurestores/flight_delays\n",
      "Delete Featurestore  backing LRO: projects/662390005506/locations/us-central1/operations/4621950852825874432\n",
      "Featurestore deleted. . Resource name: projects/662390005506/locations/us-central1/featurestores/flight_delays\n"
     ]
    }
   ],
   "source": [
    "delete_featurestore_sample(\n",
    "    project='polished-vault-379315',\n",
    "    location='us-central1',\n",
    "    featurestore_name='flight_delays')"
   ]
  },
  {
   "cell_type": "code",
   "execution_count": null,
   "id": "1efadcb1-5acb-4aef-beca-d9bc323b0ba9",
   "metadata": {},
   "outputs": [],
   "source": []
  }
 ],
 "metadata": {
  "environment": {
   "kernel": "python3",
   "name": "common-cpu.m107",
   "type": "gcloud",
   "uri": "gcr.io/deeplearning-platform-release/base-cpu:m107"
  },
  "kernelspec": {
   "display_name": "Python 3",
   "language": "python",
   "name": "python3"
  },
  "language_info": {
   "codemirror_mode": {
    "name": "ipython",
    "version": 3
   },
   "file_extension": ".py",
   "mimetype": "text/x-python",
   "name": "python",
   "nbconvert_exporter": "python",
   "pygments_lexer": "ipython3",
   "version": "3.7.12"
  }
 },
 "nbformat": 4,
 "nbformat_minor": 5
}
