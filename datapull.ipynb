{
 "cells": [
  {
   "cell_type": "markdown",
   "id": "cb03ac66-39de-47be-897b-d51332775a44",
   "metadata": {},
   "source": [
    "modified https://github.com/simonloew/mlops_on_gcp/blob/main/part1/download_data.py\n",
    "\n",
    "bucket name must match the one from setup.sh script\n",
    "\n",
    "notes:\n",
    "- there could be errors with month/year parsing due to (1) at the end of duplicated files. So make sure there is no files with the same name as a file to be created in /data/raw/."
   ]
  },
  {
   "cell_type": "code",
   "execution_count": 25,
   "id": "cf4d0995-c8ed-4b3f-8a05-c86dd3ec5ea0",
   "metadata": {},
   "outputs": [],
   "source": [
    "import subprocess\n",
    "from tempfile import TemporaryDirectory\n",
    "from shutil import unpack_archive, move\n",
    "from pathlib import Path\n",
    "import wget\n",
    "import ssl\n",
    "import pandas as pd\n",
    "\n",
    "ssl._create_default_https_context = ssl._create_unverified_context\n",
    "\n",
    "\n",
    "BTS_ROOT_URL = \"https://transtats.bts.gov/PREZIP\"\n",
    "Year = 2020\n",
    "Month = 5"
   ]
  },
  {
   "cell_type": "code",
   "execution_count": 26,
   "id": "30dabde4-d847-4b46-9b76-2a580ba49976",
   "metadata": {},
   "outputs": [
    {
     "name": "stderr",
     "output_type": "stream",
     "text": [
      "/opt/conda/lib/python3.7/site-packages/ipykernel_launcher.py:45: DtypeWarning: Columns (77,84) have mixed types.Specify dtype option on import or set low_memory=False.\n"
     ]
    },
    {
     "name": "stdout",
     "output_type": "stream",
     "text": [
      "Extracted: data/processed/2020/2020-05.csv data/processed/2020/2020-05small.csv\n"
     ]
    },
    {
     "name": "stderr",
     "output_type": "stream",
     "text": [
      "Copying file:///home/jupyter/flights_pipeline/data/processed/2020/2020-05small.csv [Content-Type=text/csv]...\n",
      "Copying file:///home/jupyter/flights_pipeline/data/processed/2020/2020-05.csv [Content-Type=text/csv]...\n",
      "- [2 files][ 78.4 MiB/ 78.4 MiB]                                                \n",
      "Operation completed over 2 objects/78.4 MiB.                                     \n"
     ]
    }
   ],
   "source": [
    "def download_monthly_data(year: int, month: int, ouput_dir: Path) -> Path:\n",
    "    file_download_url = f\"{BTS_ROOT_URL}/On_Time_Reporting_Carrier_On_Time_Performance_1987_present_{year}_{month}.zip\"\n",
    "\n",
    "    output_file_path = ouput_dir / f\"{year}_{month:02}.zip\"\n",
    "    output_file_path.parent.mkdir(exist_ok=True, parents=True)\n",
    "\n",
    "    wget.download(file_download_url, output_file_path.as_posix())\n",
    "\n",
    "    return output_file_path\n",
    "\n",
    "\n",
    "def extract_zipfile(zip_file: Path, output_dir: Path) -> Path:\n",
    "    with TemporaryDirectory() as tmpdir:\n",
    "        unpack_archive(zip_file, extract_dir=tmpdir)\n",
    "\n",
    "        csv_files = list(Path(tmpdir).glob(\"*.csv\"))\n",
    "        assert len(csv_files) == 1, \"There should be exactly one *.csv file per zip\"\n",
    "\n",
    "        year = int(zip_file.name.split(\".\")[0].split(\"_\")[-2])\n",
    "        month = int(zip_file.name.split(\".\")[0].split(\"_\")[-1])\n",
    "        output_file = output_dir / f\"{year}\" / f\"{year}-{month:02}.csv\"\n",
    "\n",
    "        output_file.parent.mkdir(exist_ok=True, parents=True)\n",
    "\n",
    "        move(csv_files[0], output_file)\n",
    "\n",
    "        return output_file\n",
    "\n",
    "\n",
    "def extract_data(input_dir: Path, output_dir: Path):\n",
    "    for zip_filepath in INPUT_DIR.glob(\"*.zip\"):\n",
    "        output_file = extract_zipfile(zip_filepath, OUTPUT_DIR)\n",
    "        subsampled_file = pd.read_csv(output_file)\n",
    "        smallfile_path = str(output_file)[:-4]+'small.csv'\n",
    "        subsampled_file.head(5000).to_csv(smallfile_path)\n",
    "        print(\"Extracted:\", output_file, smallfile_path)\n",
    "\n",
    "\n",
    "if __name__ == \"__main__\":\n",
    "    INPUT_DIR = Path(\"./data/raw\")\n",
    "    OUTPUT_DIR = Path(\"./data/processed\")\n",
    "    BUCKET = \"mpg3-testflights-polished-vault-379315\"  \n",
    "\n",
    "    download_monthly_data(Year, Month, INPUT_DIR)\n",
    "    extract_data(INPUT_DIR, OUTPUT_DIR)\n",
    "    subprocess.check_call([\"gsutil\", \"cp\", \"-r\", OUTPUT_DIR.absolute(), f\"gs://{BUCKET}/data\"])"
   ]
  },
  {
   "cell_type": "code",
   "execution_count": null,
   "id": "f8556735-d75a-46ee-ac08-735d46bdde9b",
   "metadata": {},
   "outputs": [],
   "source": []
  },
  {
   "cell_type": "code",
   "execution_count": null,
   "id": "c0ec044c-ae13-4835-b189-bd85b514782b",
   "metadata": {},
   "outputs": [],
   "source": []
  },
  {
   "cell_type": "code",
   "execution_count": null,
   "id": "9b6b9f75-1f71-4763-abe7-49fe6beb86c1",
   "metadata": {},
   "outputs": [],
   "source": []
  },
  {
   "cell_type": "code",
   "execution_count": 22,
   "id": "a74aedf3-cf99-45cb-8e7a-bb88830c91d2",
   "metadata": {},
   "outputs": [
    {
     "name": "stdout",
     "output_type": "stream",
     "text": [
      "Extracted: data/processed/2020/2020-05.csv data/processed/2020/2020-05small.csv\n"
     ]
    }
   ],
   "source": [
    "# subsample a file:\n",
    "from pathlib import Path\n",
    "from tempfile import TemporaryDirectory\n",
    "from shutil import unpack_archive, move\n",
    "import pandas as pd\n",
    "\n",
    "\n",
    "BTS_ROOT_URL = \"https://transtats.bts.gov/PREZIP\"\n",
    "Year = 2020\n",
    "Month = 5\n",
    "INPUT_DIR = Path(\"./data/raw\")\n",
    "OUTPUT_DIR = Path(\"./data/processed\")\n",
    "\n",
    "def extract_zipfile(zip_file: Path, output_dir: Path) -> Path:\n",
    "    with TemporaryDirectory() as tmpdir:\n",
    "        unpack_archive(zip_file, extract_dir=tmpdir)\n",
    "\n",
    "        csv_files = list(Path(tmpdir).glob(\"*.csv\"))\n",
    "        assert len(csv_files) == 1, \"There should be exactly one *.csv file per zip\"\n",
    "\n",
    "        year = int(zip_file.name.split(\".\")[0].split(\"_\")[-2])\n",
    "        month = int(zip_file.name.split(\".\")[0].split(\"_\")[-1])\n",
    "        output_file = output_dir / f\"{year}\" / f\"{year}-{month:02}.csv\"\n",
    "\n",
    "        output_file.parent.mkdir(exist_ok=True, parents=True)\n",
    "\n",
    "        move(csv_files[0], output_file)\n",
    "\n",
    "        return output_file\n",
    "\n",
    "for zip_filepath in INPUT_DIR.glob(\"*.zip\"):\n",
    "    output_file = extract_zipfile(zip_filepath, OUTPUT_DIR)\n",
    "    subsampled_file = pd.read_csv(output_file)\n",
    "    smallfile_path = str(output_file)[:-4]+'small.csv'\n",
    "    subsampled_file.head(5000).to_csv(smallfile_path)\n",
    "    print(\"Extracted:\", output_file, smallfile_path)\n",
    "\n"
   ]
  },
  {
   "cell_type": "code",
   "execution_count": 11,
   "id": "5b988e13-f7cd-4902-9182-fbd2c4b04e35",
   "metadata": {},
   "outputs": [
    {
     "data": {
      "text/plain": [
       "PosixPath('data/raw/2020_05.zip')"
      ]
     },
     "execution_count": 11,
     "metadata": {},
     "output_type": "execute_result"
    }
   ],
   "source": [
    "zip_filepath"
   ]
  },
  {
   "cell_type": "code",
   "execution_count": 12,
   "id": "5966db5d-2a88-4470-9538-20e489d834f5",
   "metadata": {},
   "outputs": [
    {
     "data": {
      "text/plain": [
       "PosixPath('data/processed/2020/2020-05.csv')"
      ]
     },
     "execution_count": 12,
     "metadata": {},
     "output_type": "execute_result"
    }
   ],
   "source": [
    "output_file"
   ]
  },
  {
   "cell_type": "code",
   "execution_count": 19,
   "id": "63804436-2e6b-400d-a0fc-04e590f02ac6",
   "metadata": {},
   "outputs": [
    {
     "data": {
      "text/plain": [
       "'data/processed/2020/2020-05small.csv'"
      ]
     },
     "execution_count": 19,
     "metadata": {},
     "output_type": "execute_result"
    }
   ],
   "source": [
    "smallfile_path = str(output_file)[:-4]+'small.csv'\n",
    "smallfile_path"
   ]
  },
  {
   "cell_type": "code",
   "execution_count": null,
   "id": "4289b88c-6412-4346-9ed3-c66050346bb7",
   "metadata": {},
   "outputs": [],
   "source": []
  },
  {
   "cell_type": "code",
   "execution_count": null,
   "id": "3680a4bc-c531-42e9-9f71-367d4cf82c3e",
   "metadata": {},
   "outputs": [],
   "source": []
  }
 ],
 "metadata": {
  "environment": {
   "kernel": "python3",
   "name": "common-cpu.m107",
   "type": "gcloud",
   "uri": "gcr.io/deeplearning-platform-release/base-cpu:m107"
  },
  "kernelspec": {
   "display_name": "Python 3",
   "language": "python",
   "name": "python3"
  },
  "language_info": {
   "codemirror_mode": {
    "name": "ipython",
    "version": 3
   },
   "file_extension": ".py",
   "mimetype": "text/x-python",
   "name": "python",
   "nbconvert_exporter": "python",
   "pygments_lexer": "ipython3",
   "version": "3.7.12"
  }
 },
 "nbformat": 4,
 "nbformat_minor": 5
}
