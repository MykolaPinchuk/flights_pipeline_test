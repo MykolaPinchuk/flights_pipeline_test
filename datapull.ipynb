{
 "cells": [
  {
   "cell_type": "code",
   "execution_count": 1,
   "id": "541f7d6c-2dcc-4433-b1d4-677d9d164470",
   "metadata": {},
   "outputs": [],
   "source": [
    "# modified https://github.com/simonloew/mlops_on_gcp/blob/main/part1/download_data.py"
   ]
  },
  {
   "cell_type": "code",
   "execution_count": 2,
   "id": "cf4d0995-c8ed-4b3f-8a05-c86dd3ec5ea0",
   "metadata": {},
   "outputs": [],
   "source": [
    "import subprocess\n",
    "from tempfile import TemporaryDirectory\n",
    "from shutil import unpack_archive, move\n",
    "from pathlib import Path\n",
    "import wget\n",
    "import ssl\n",
    "\n",
    "ssl._create_default_https_context = ssl._create_unverified_context\n",
    "\n",
    "\n",
    "BTS_ROOT_URL = \"https://transtats.bts.gov/PREZIP\""
   ]
  },
  {
   "cell_type": "code",
   "execution_count": 3,
   "id": "30dabde4-d847-4b46-9b76-2a580ba49976",
   "metadata": {},
   "outputs": [
    {
     "name": "stdout",
     "output_type": "stream",
     "text": [
      "Extracted: data/processed/2021/2021-12.csv\n"
     ]
    },
    {
     "ename": "ValueError",
     "evalue": "invalid literal for int() with base 10: '12 (1)'",
     "output_type": "error",
     "traceback": [
      "\u001b[0;31m---------------------------------------------------------------------------\u001b[0m",
      "\u001b[0;31mValueError\u001b[0m                                Traceback (most recent call last)",
      "\u001b[0;32m/var/tmp/ipykernel_6191/2443152926.py\u001b[0m in \u001b[0;36m<module>\u001b[0;34m\u001b[0m\n\u001b[1;32m     40\u001b[0m \u001b[0;34m\u001b[0m\u001b[0m\n\u001b[1;32m     41\u001b[0m     \u001b[0mdownload_monthly_data\u001b[0m\u001b[0;34m(\u001b[0m\u001b[0;36m2021\u001b[0m\u001b[0;34m,\u001b[0m \u001b[0;36m12\u001b[0m\u001b[0;34m,\u001b[0m \u001b[0mINPUT_DIR\u001b[0m\u001b[0;34m)\u001b[0m\u001b[0;34m\u001b[0m\u001b[0;34m\u001b[0m\u001b[0m\n\u001b[0;32m---> 42\u001b[0;31m     \u001b[0mextract_data\u001b[0m\u001b[0;34m(\u001b[0m\u001b[0mINPUT_DIR\u001b[0m\u001b[0;34m,\u001b[0m \u001b[0mOUTPUT_DIR\u001b[0m\u001b[0;34m)\u001b[0m\u001b[0;34m\u001b[0m\u001b[0;34m\u001b[0m\u001b[0m\n\u001b[0m\u001b[1;32m     43\u001b[0m     \u001b[0msubprocess\u001b[0m\u001b[0;34m.\u001b[0m\u001b[0mcheck_call\u001b[0m\u001b[0;34m(\u001b[0m\u001b[0;34m[\u001b[0m\u001b[0;34m\"gsutil\"\u001b[0m\u001b[0;34m,\u001b[0m \u001b[0;34m\"cp\"\u001b[0m\u001b[0;34m,\u001b[0m \u001b[0;34m\"-r\"\u001b[0m\u001b[0;34m,\u001b[0m \u001b[0mOUTPUT_DIR\u001b[0m\u001b[0;34m.\u001b[0m\u001b[0mabsolute\u001b[0m\u001b[0;34m(\u001b[0m\u001b[0;34m)\u001b[0m\u001b[0;34m,\u001b[0m \u001b[0;34mf\"gs://{BUCKET}/data\"\u001b[0m\u001b[0;34m]\u001b[0m\u001b[0;34m)\u001b[0m\u001b[0;34m\u001b[0m\u001b[0;34m\u001b[0m\u001b[0m\n",
      "\u001b[0;32m/var/tmp/ipykernel_6191/2443152926.py\u001b[0m in \u001b[0;36mextract_data\u001b[0;34m(input_dir, output_dir)\u001b[0m\n\u001b[1;32m     30\u001b[0m \u001b[0;32mdef\u001b[0m \u001b[0mextract_data\u001b[0m\u001b[0;34m(\u001b[0m\u001b[0minput_dir\u001b[0m\u001b[0;34m:\u001b[0m \u001b[0mPath\u001b[0m\u001b[0;34m,\u001b[0m \u001b[0moutput_dir\u001b[0m\u001b[0;34m:\u001b[0m \u001b[0mPath\u001b[0m\u001b[0;34m)\u001b[0m\u001b[0;34m:\u001b[0m\u001b[0;34m\u001b[0m\u001b[0;34m\u001b[0m\u001b[0m\n\u001b[1;32m     31\u001b[0m     \u001b[0;32mfor\u001b[0m \u001b[0mzip_filepath\u001b[0m \u001b[0;32min\u001b[0m \u001b[0minput_dir\u001b[0m\u001b[0;34m.\u001b[0m\u001b[0mglob\u001b[0m\u001b[0;34m(\u001b[0m\u001b[0;34m\"*.zip\"\u001b[0m\u001b[0;34m)\u001b[0m\u001b[0;34m:\u001b[0m\u001b[0;34m\u001b[0m\u001b[0;34m\u001b[0m\u001b[0m\n\u001b[0;32m---> 32\u001b[0;31m         \u001b[0moutput_file\u001b[0m \u001b[0;34m=\u001b[0m \u001b[0mextract_zipfile\u001b[0m\u001b[0;34m(\u001b[0m\u001b[0mzip_filepath\u001b[0m\u001b[0;34m,\u001b[0m \u001b[0moutput_dir\u001b[0m\u001b[0;34m)\u001b[0m\u001b[0;34m\u001b[0m\u001b[0;34m\u001b[0m\u001b[0m\n\u001b[0m\u001b[1;32m     33\u001b[0m         \u001b[0mprint\u001b[0m\u001b[0;34m(\u001b[0m\u001b[0;34m\"Extracted:\"\u001b[0m\u001b[0;34m,\u001b[0m \u001b[0moutput_file\u001b[0m\u001b[0;34m)\u001b[0m\u001b[0;34m\u001b[0m\u001b[0;34m\u001b[0m\u001b[0m\n\u001b[1;32m     34\u001b[0m \u001b[0;34m\u001b[0m\u001b[0m\n",
      "\u001b[0;32m/var/tmp/ipykernel_6191/2443152926.py\u001b[0m in \u001b[0;36mextract_zipfile\u001b[0;34m(zip_file, output_dir)\u001b[0m\n\u001b[1;32m     18\u001b[0m \u001b[0;34m\u001b[0m\u001b[0m\n\u001b[1;32m     19\u001b[0m         \u001b[0myear\u001b[0m \u001b[0;34m=\u001b[0m \u001b[0mint\u001b[0m\u001b[0;34m(\u001b[0m\u001b[0mzip_file\u001b[0m\u001b[0;34m.\u001b[0m\u001b[0mname\u001b[0m\u001b[0;34m.\u001b[0m\u001b[0msplit\u001b[0m\u001b[0;34m(\u001b[0m\u001b[0;34m\".\"\u001b[0m\u001b[0;34m)\u001b[0m\u001b[0;34m[\u001b[0m\u001b[0;36m0\u001b[0m\u001b[0;34m]\u001b[0m\u001b[0;34m.\u001b[0m\u001b[0msplit\u001b[0m\u001b[0;34m(\u001b[0m\u001b[0;34m\"_\"\u001b[0m\u001b[0;34m)\u001b[0m\u001b[0;34m[\u001b[0m\u001b[0;34m-\u001b[0m\u001b[0;36m2\u001b[0m\u001b[0;34m]\u001b[0m\u001b[0;34m)\u001b[0m\u001b[0;34m\u001b[0m\u001b[0;34m\u001b[0m\u001b[0m\n\u001b[0;32m---> 20\u001b[0;31m         \u001b[0mmonth\u001b[0m \u001b[0;34m=\u001b[0m \u001b[0mint\u001b[0m\u001b[0;34m(\u001b[0m\u001b[0mzip_file\u001b[0m\u001b[0;34m.\u001b[0m\u001b[0mname\u001b[0m\u001b[0;34m.\u001b[0m\u001b[0msplit\u001b[0m\u001b[0;34m(\u001b[0m\u001b[0;34m\".\"\u001b[0m\u001b[0;34m)\u001b[0m\u001b[0;34m[\u001b[0m\u001b[0;36m0\u001b[0m\u001b[0;34m]\u001b[0m\u001b[0;34m.\u001b[0m\u001b[0msplit\u001b[0m\u001b[0;34m(\u001b[0m\u001b[0;34m\"_\"\u001b[0m\u001b[0;34m)\u001b[0m\u001b[0;34m[\u001b[0m\u001b[0;34m-\u001b[0m\u001b[0;36m1\u001b[0m\u001b[0;34m]\u001b[0m\u001b[0;34m)\u001b[0m\u001b[0;34m\u001b[0m\u001b[0;34m\u001b[0m\u001b[0m\n\u001b[0m\u001b[1;32m     21\u001b[0m         \u001b[0moutput_file\u001b[0m \u001b[0;34m=\u001b[0m \u001b[0moutput_dir\u001b[0m \u001b[0;34m/\u001b[0m \u001b[0;34mf\"{year}\"\u001b[0m \u001b[0;34m/\u001b[0m \u001b[0;34mf\"{year}-{month:02}.csv\"\u001b[0m\u001b[0;34m\u001b[0m\u001b[0;34m\u001b[0m\u001b[0m\n\u001b[1;32m     22\u001b[0m \u001b[0;34m\u001b[0m\u001b[0m\n",
      "\u001b[0;31mValueError\u001b[0m: invalid literal for int() with base 10: '12 (1)'"
     ]
    }
   ],
   "source": [
    "def download_monthly_data(year: int, month: int, ouput_dir: Path) -> Path:\n",
    "    file_download_url = f\"{BTS_ROOT_URL}/On_Time_Reporting_Carrier_On_Time_Performance_1987_present_{year}_{month}.zip\"\n",
    "\n",
    "    output_file_path = ouput_dir / f\"{year}_{month:02}.zip\"\n",
    "    output_file_path.parent.mkdir(exist_ok=True, parents=True)\n",
    "\n",
    "    wget.download(file_download_url, output_file_path.as_posix())\n",
    "\n",
    "    return output_file_path\n",
    "\n",
    "\n",
    "def extract_zipfile(zip_file: Path, output_dir: Path) -> Path:\n",
    "    with TemporaryDirectory() as tmpdir:\n",
    "        unpack_archive(zip_file, extract_dir=tmpdir)\n",
    "\n",
    "        csv_files = list(Path(tmpdir).glob(\"*.csv\"))\n",
    "        assert len(csv_files) == 1, \"There should be exactly one *.csv file per zip\"\n",
    "\n",
    "        year = int(zip_file.name.split(\".\")[0].split(\"_\")[-2])\n",
    "        month = int(zip_file.name.split(\".\")[0].split(\"_\")[-1])\n",
    "        output_file = output_dir / f\"{year}\" / f\"{year}-{month:02}.csv\"\n",
    "\n",
    "        output_file.parent.mkdir(exist_ok=True, parents=True)\n",
    "\n",
    "        move(csv_files[0], output_file)\n",
    "\n",
    "        return output_file\n",
    "\n",
    "\n",
    "def extract_data(input_dir: Path, output_dir: Path):\n",
    "    for zip_filepath in input_dir.glob(\"*.zip\"):\n",
    "        output_file = extract_zipfile(zip_filepath, output_dir)\n",
    "        print(\"Extracted:\", output_file)\n",
    "\n",
    "\n",
    "if __name__ == \"__main__\":\n",
    "    INPUT_DIR = Path(\"./data/raw\")\n",
    "    OUTPUT_DIR = Path(\"./data/processed\")\n",
    "    BUCKET = \"training_data_polished-vault-379315\"  # TODO: Replace with your bucket name\n",
    "\n",
    "    download_monthly_data(2021, 12, INPUT_DIR)\n",
    "    extract_data(INPUT_DIR, OUTPUT_DIR)\n",
    "    subprocess.check_call([\"gsutil\", \"cp\", \"-r\", OUTPUT_DIR.absolute(), f\"gs://{BUCKET}/data\"])"
   ]
  },
  {
   "cell_type": "code",
   "execution_count": null,
   "id": "a74aedf3-cf99-45cb-8e7a-bb88830c91d2",
   "metadata": {},
   "outputs": [],
   "source": []
  }
 ],
 "metadata": {
  "environment": {
   "kernel": "python3",
   "name": "common-cpu.m107",
   "type": "gcloud",
   "uri": "gcr.io/deeplearning-platform-release/base-cpu:m107"
  },
  "kernelspec": {
   "display_name": "Python 3",
   "language": "python",
   "name": "python3"
  },
  "language_info": {
   "codemirror_mode": {
    "name": "ipython",
    "version": 3
   },
   "file_extension": ".py",
   "mimetype": "text/x-python",
   "name": "python",
   "nbconvert_exporter": "python",
   "pygments_lexer": "ipython3",
   "version": "3.7.12"
  }
 },
 "nbformat": 4,
 "nbformat_minor": 5
}
