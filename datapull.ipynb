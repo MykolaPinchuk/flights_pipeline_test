{
 "cells": [
  {
   "cell_type": "markdown",
   "id": "cb03ac66-39de-47be-897b-d51332775a44",
   "metadata": {},
   "source": [
    "modified https://github.com/simonloew/mlops_on_gcp/blob/main/part1/download_data.py\n",
    "\n",
    "bucket name must match the one from setup.sh script\n",
    "\n",
    "notes:\n",
    "- there could be errors with month/year parsing due to (1) at the end of duplicated files. So make sure there is no files with the same name as a file to be created in /data/raw/."
   ]
  },
  {
   "cell_type": "code",
   "execution_count": 1,
   "id": "cf4d0995-c8ed-4b3f-8a05-c86dd3ec5ea0",
   "metadata": {},
   "outputs": [],
   "source": [
    "import subprocess\n",
    "from tempfile import TemporaryDirectory\n",
    "from shutil import unpack_archive, move\n",
    "from pathlib import Path\n",
    "import wget\n",
    "import ssl\n",
    "\n",
    "ssl._create_default_https_context = ssl._create_unverified_context\n",
    "\n",
    "\n",
    "BTS_ROOT_URL = \"https://transtats.bts.gov/PREZIP\"\n",
    "Year = 2020\n",
    "Month = 5"
   ]
  },
  {
   "cell_type": "code",
   "execution_count": 2,
   "id": "30dabde4-d847-4b46-9b76-2a580ba49976",
   "metadata": {},
   "outputs": [
    {
     "name": "stdout",
     "output_type": "stream",
     "text": [
      "Extracted: data/processed/2020/2020-05.csv\n",
      "Extracted: data/processed/2021/2021-03.csv\n"
     ]
    },
    {
     "name": "stderr",
     "output_type": "stream",
     "text": [
      "Copying file:///home/jupyter/flights_pipeline/data/processed/2020/2020-05.csv [Content-Type=text/csv]...\n",
      "Copying file:///home/jupyter/flights_pipeline/data/processed/2021/2021-03.csv [Content-Type=text/csv]...\n",
      "==> NOTE: You are uploading one or more large file(s), which would run          \n",
      "significantly faster if you enable parallel composite uploads. This\n",
      "feature can be enabled by editing the\n",
      "\"parallel_composite_upload_threshold\" value in your .boto\n",
      "configuration file. However, note that if you do this large files will\n",
      "be uploaded as `composite objects\n",
      "<https://cloud.google.com/storage/docs/composite-objects>`_,which\n",
      "means that any user who downloads such objects will need to have a\n",
      "compiled crcmod installed (see \"gsutil help crcmod\"). This is because\n",
      "without a compiled crcmod, computing checksums on composite objects is\n",
      "so slow that gsutil disables downloads of composite objects.\n",
      "\n",
      "| [2 files][267.2 MiB/267.2 MiB]                                                \n",
      "Operation completed over 2 objects/267.2 MiB.                                    \n"
     ]
    }
   ],
   "source": [
    "def download_monthly_data(year: int, month: int, ouput_dir: Path) -> Path:\n",
    "    file_download_url = f\"{BTS_ROOT_URL}/On_Time_Reporting_Carrier_On_Time_Performance_1987_present_{year}_{month}.zip\"\n",
    "\n",
    "    output_file_path = ouput_dir / f\"{year}_{month:02}.zip\"\n",
    "    output_file_path.parent.mkdir(exist_ok=True, parents=True)\n",
    "\n",
    "    wget.download(file_download_url, output_file_path.as_posix())\n",
    "\n",
    "    return output_file_path\n",
    "\n",
    "\n",
    "def extract_zipfile(zip_file: Path, output_dir: Path) -> Path:\n",
    "    with TemporaryDirectory() as tmpdir:\n",
    "        unpack_archive(zip_file, extract_dir=tmpdir)\n",
    "\n",
    "        csv_files = list(Path(tmpdir).glob(\"*.csv\"))\n",
    "        assert len(csv_files) == 1, \"There should be exactly one *.csv file per zip\"\n",
    "\n",
    "        year = int(zip_file.name.split(\".\")[0].split(\"_\")[-2])\n",
    "        month = int(zip_file.name.split(\".\")[0].split(\"_\")[-1])\n",
    "        output_file = output_dir / f\"{year}\" / f\"{year}-{month:02}.csv\"\n",
    "\n",
    "        output_file.parent.mkdir(exist_ok=True, parents=True)\n",
    "\n",
    "        move(csv_files[0], output_file)\n",
    "\n",
    "        return output_file\n",
    "\n",
    "\n",
    "def extract_data(input_dir: Path, output_dir: Path):\n",
    "    for zip_filepath in input_dir.glob(\"*.zip\"):\n",
    "        output_file = extract_zipfile(zip_filepath, output_dir)\n",
    "        print(\"Extracted:\", output_file)\n",
    "\n",
    "\n",
    "if __name__ == \"__main__\":\n",
    "    INPUT_DIR = Path(\"./data/raw\")\n",
    "    OUTPUT_DIR = Path(\"./data/processed\")\n",
    "    BUCKET = \"mpg3-testflights-polished-vault-379315\"  # TODO: Replace with your bucket name\n",
    "\n",
    "    download_monthly_data(Year, Month, INPUT_DIR)\n",
    "    extract_data(INPUT_DIR, OUTPUT_DIR)\n",
    "    subprocess.check_call([\"gsutil\", \"cp\", \"-r\", OUTPUT_DIR.absolute(), f\"gs://{BUCKET}/data\"])"
   ]
  },
  {
   "cell_type": "code",
   "execution_count": 3,
   "id": "a74aedf3-cf99-45cb-8e7a-bb88830c91d2",
   "metadata": {},
   "outputs": [],
   "source": [
    "# subsample a file:\n",
    "\n"
   ]
  }
 ],
 "metadata": {
  "environment": {
   "kernel": "python3",
   "name": "common-cpu.m107",
   "type": "gcloud",
   "uri": "gcr.io/deeplearning-platform-release/base-cpu:m107"
  },
  "kernelspec": {
   "display_name": "Python 3",
   "language": "python",
   "name": "python3"
  },
  "language_info": {
   "codemirror_mode": {
    "name": "ipython",
    "version": 3
   },
   "file_extension": ".py",
   "mimetype": "text/x-python",
   "name": "python",
   "nbconvert_exporter": "python",
   "pygments_lexer": "ipython3",
   "version": "3.7.12"
  }
 },
 "nbformat": 4,
 "nbformat_minor": 5
}
